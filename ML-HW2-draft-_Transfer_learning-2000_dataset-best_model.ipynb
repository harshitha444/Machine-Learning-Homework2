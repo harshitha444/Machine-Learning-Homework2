{
 "cells": [
  {
   "cell_type": "code",
   "execution_count": 1,
   "metadata": {},
   "outputs": [
    {
     "name": "stderr",
     "output_type": "stream",
     "text": [
      "Using TensorFlow backend.\n"
     ]
    }
   ],
   "source": [
    "from keras.preprocessing.image import ImageDataGenerator\n",
    "import matplotlib.pyplot as plt\n",
    "from keras.models import Sequential\n",
    "from keras.layers import Dense, Activation, Dropout, Flatten,\\\n",
    "                         Conv2D, MaxPooling2D, AveragePooling2D, GlobalAveragePooling2D,\\\n",
    "                          UpSampling2D\n",
    "from keras.layers.normalization import BatchNormalization\n",
    "from keras import regularizers\n",
    "from keras import optimizers\n",
    "import keras\n",
    "import tensorflow as tf\n",
    "from keras import callbacks\n",
    "import numpy as np\n",
    "from sklearn.metrics import classification_report, confusion_matrix\n",
    "import matplotlib.pyplot as plt\n",
    "from keras.callbacks import ModelCheckpoint\n",
    "from keras import optimizers\n",
    "from keras import applications\n",
    "from keras.models import Model, Input,load_model\n"
   ]
  },
  {
   "cell_type": "markdown",
   "metadata": {},
   "source": [
    "### try validation with another dataset, not the test set"
   ]
  },
  {
   "cell_type": "code",
   "execution_count": 2,
   "metadata": {},
   "outputs": [
    {
     "data": {
      "text/plain": [
       "<function tensorflow.python.framework.test_util.is_gpu_available(cuda_only=False, min_cuda_compute_capability=None)>"
      ]
     },
     "execution_count": 2,
     "metadata": {},
     "output_type": "execute_result"
    }
   ],
   "source": [
    "tf.test.is_gpu_available"
   ]
  },
  {
   "cell_type": "code",
   "execution_count": 3,
   "metadata": {},
   "outputs": [],
   "source": [
    "#from tensorflow.python.client import device_lib\n",
    "#print(device_lib.list_local_devices())\n"
   ]
  },
  {
   "cell_type": "code",
   "execution_count": 4,
   "metadata": {},
   "outputs": [],
   "source": [
    "# with tf.device('/gpu:0'):\n",
    "#     a = tf.constant([1.0, 2.0, 3.0, 4.0, 5.0, 6.0], shape=[2, 3], name='a')\n",
    "#     b = tf.constant([1.0, 2.0, 3.0, 4.0, 5.0, 6.0], shape=[3, 2], name='b')\n",
    "#     c = tf.matmul(a, b)\n",
    "\n",
    "# with tf.Session() as sess:\n",
    "#     print (sess.run(c))"
   ]
  },
  {
   "cell_type": "code",
   "execution_count": 5,
   "metadata": {},
   "outputs": [],
   "source": [
    "# from keras import backend as K\n",
    "# K.tensorflow_backend._get_available_gpus()"
   ]
  },
  {
   "cell_type": "code",
   "execution_count": 6,
   "metadata": {},
   "outputs": [],
   "source": [
    "datadir = 'D:\\sapienza\\ML\\MWI-Dataset-1.1_2000'\n"
   ]
  },
  {
   "cell_type": "code",
   "execution_count": 7,
   "metadata": {},
   "outputs": [],
   "source": [
    "testdir = 'D:\\sapienza\\ML\\Weather_dataset'\n"
   ]
  },
  {
   "cell_type": "code",
   "execution_count": 39,
   "metadata": {},
   "outputs": [
    {
     "name": "stderr",
     "output_type": "stream",
     "text": [
      "C:\\Users\\Theo\\Anaconda3\\lib\\site-packages\\keras_preprocessing\\image\\image_data_generator.py:336: UserWarning: This ImageDataGenerator specifies `zca_whitening`, which overrides setting of `featurewise_center`.\n",
      "  warnings.warn('This ImageDataGenerator specifies '\n"
     ]
    },
    {
     "name": "stdout",
     "output_type": "stream",
     "text": [
      "Found 2000 images belonging to 4 classes.\n",
      "Found 3038 images belonging to 4 classes.\n"
     ]
    }
   ],
   "source": [
    "batch_size = 20\n",
    "input_shape = ()\n",
    "train_datagen = ImageDataGenerator(\n",
    "    rescale = 1. / 255,\\\n",
    "    zoom_range=0.4,\\\n",
    "    rotation_range=60,\\\n",
    "    width_shift_range=0.3,\\\n",
    "    height_shift_range=0.3,\\\n",
    "    horizontal_flip=True,\\\n",
    "    shear_range=0.3,\n",
    "    zca_whitening=True,\n",
    "    brightness_range=[0.5, 1.5],\n",
    "    vertical_flip=False)\n",
    "\n",
    "train_generator = train_datagen.flow_from_directory(\n",
    "    directory=datadir,\n",
    "    target_size=(350, 450),\n",
    "    color_mode=\"rgb\",\n",
    "    batch_size=batch_size,\n",
    "    class_mode=\"categorical\",\n",
    "    shuffle=True,\n",
    "    seed=7\n",
    ")\n",
    "\n",
    "test_datagen = ImageDataGenerator(\n",
    "    rescale = 1. / 255)\n",
    "\n",
    "test_generator = test_datagen.flow_from_directory(\n",
    "    directory=testdir,\n",
    "    target_size=(350, 450),\n",
    "    color_mode=\"rgb\",\n",
    "    batch_size=batch_size,\n",
    "    class_mode=\"categorical\",\n",
    "    shuffle=False,\n",
    "    seed=7\n",
    ")\n",
    "\n",
    "num_samples = train_generator.n\n",
    "num_classes = train_generator.num_classes\n",
    "input_shape = train_generator.image_shape\n",
    "\n",
    "classnames = [k for k,v in train_generator.class_indices.items()]"
   ]
  },
  {
   "cell_type": "code",
   "execution_count": 40,
   "metadata": {},
   "outputs": [],
   "source": [
    "def load_backbone_net(input_shape):\n",
    "    \n",
    "    # define input tensor\n",
    "    input0 = Input(shape=input_shape)\n",
    "\n",
    "    # load a pretrained model on imagenet without the final dense layer\n",
    "    feature_extractor = applications.vgg16.VGG16(include_top=False, weights='imagenet', input_tensor=input0)\n",
    "    \n",
    "    \n",
    "    feature_extractor = feature_extractor.output\n",
    "    feature_extractor = Model(input=input0, output=feature_extractor)\n",
    "    optimizer = 'SGD' #alternative 'SGD'\n",
    "\n",
    "    feature_extractor.compile(loss=keras.losses.categorical_crossentropy, optimizer=optimizers.SGD(lr=1e-3,momentum=0.9,nesterov=True), metrics=['accuracy'])\n",
    "\n",
    "    return feature_extractor\n"
   ]
  },
  {
   "cell_type": "code",
   "execution_count": 41,
   "metadata": {},
   "outputs": [],
   "source": [
    "def transferNet(feature_extractor, num_classes, output_layer_name, trainable_layers):\n",
    "    \n",
    "    # get the original input layer tensor\n",
    "    input_t = feature_extractor.get_layer(index=0).input\n",
    "\n",
    "    # set the feture extractor layers as non-trainable\n",
    "    for idx,layer in enumerate(feature_extractor.layers):\n",
    "        if layer.name in trainable_layers:\n",
    "            layer.trainable = True\n",
    "        else:\n",
    "            layer.trainable = False\n",
    "\n",
    "    # get the output tensor from a layer of the feature extractor\n",
    "    output_extractor = feature_extractor.get_layer(name = output_layer_name).output\n",
    "    \n",
    "\n",
    "    # flat the output of a Conv layer\n",
    "    flatten = Flatten()(output_extractor) \n",
    "    flatten_norm = BatchNormalization()(flatten)\n",
    "    dense = Dropout(0.4)(flatten_norm)\n",
    "    \n",
    "\n",
    "    \n",
    "    \n",
    "\n",
    "    # add a Dense layer\n",
    "    dense = Dense(64, activation='relu')(dense)\n",
    "    dense = BatchNormalization()(dense)\n",
    "    dense = Dropout(0.2)(dense)\n",
    "\n",
    "    # add the final output layer\n",
    "    dense = BatchNormalization()(dense)\n",
    "    dense = Dense(num_classes, activation='softmax')(dense)\n",
    "    \n",
    "\n",
    "    model = Model(input=input_t, output=dense, name=\"transferNet\")\n",
    "    \n",
    "   # optimizer = 'adam' #alternative 'SGD'\n",
    "    model.compile(loss=keras.losses.categorical_crossentropy, optimizer=optimizers.SGD(lr=1e-3,nesterov=True,momentum=0.9), metrics=['accuracy'])\n",
    "\n",
    "    return model"
   ]
  },
  {
   "cell_type": "code",
   "execution_count": 42,
   "metadata": {},
   "outputs": [
    {
     "name": "stderr",
     "output_type": "stream",
     "text": [
      "C:\\Users\\Theo\\Anaconda3\\lib\\site-packages\\ipykernel_launcher.py:11: UserWarning: Update your `Model` call to the Keras 2 API: `Model(inputs=Tensor(\"in..., outputs=Tensor(\"bl...)`\n",
      "  # This is added back by InteractiveShellApp.init_path()\n"
     ]
    },
    {
     "name": "stdout",
     "output_type": "stream",
     "text": [
      "_________________________________________________________________\n",
      "Layer (type)                 Output Shape              Param #   \n",
      "=================================================================\n",
      "input_4 (InputLayer)         (None, 350, 450, 3)       0         \n",
      "_________________________________________________________________\n",
      "block1_conv1 (Conv2D)        (None, 350, 450, 64)      1792      \n",
      "_________________________________________________________________\n",
      "block1_conv2 (Conv2D)        (None, 350, 450, 64)      36928     \n",
      "_________________________________________________________________\n",
      "block1_pool (MaxPooling2D)   (None, 175, 225, 64)      0         \n",
      "_________________________________________________________________\n",
      "block2_conv1 (Conv2D)        (None, 175, 225, 128)     73856     \n",
      "_________________________________________________________________\n",
      "block2_conv2 (Conv2D)        (None, 175, 225, 128)     147584    \n",
      "_________________________________________________________________\n",
      "block2_pool (MaxPooling2D)   (None, 87, 112, 128)      0         \n",
      "_________________________________________________________________\n",
      "block3_conv1 (Conv2D)        (None, 87, 112, 256)      295168    \n",
      "_________________________________________________________________\n",
      "block3_conv2 (Conv2D)        (None, 87, 112, 256)      590080    \n",
      "_________________________________________________________________\n",
      "block3_conv3 (Conv2D)        (None, 87, 112, 256)      590080    \n",
      "_________________________________________________________________\n",
      "block3_pool (MaxPooling2D)   (None, 43, 56, 256)       0         \n",
      "_________________________________________________________________\n",
      "block4_conv1 (Conv2D)        (None, 43, 56, 512)       1180160   \n",
      "_________________________________________________________________\n",
      "block4_conv2 (Conv2D)        (None, 43, 56, 512)       2359808   \n",
      "_________________________________________________________________\n",
      "block4_conv3 (Conv2D)        (None, 43, 56, 512)       2359808   \n",
      "_________________________________________________________________\n",
      "block4_pool (MaxPooling2D)   (None, 21, 28, 512)       0         \n",
      "_________________________________________________________________\n",
      "block5_conv1 (Conv2D)        (None, 21, 28, 512)       2359808   \n",
      "_________________________________________________________________\n",
      "block5_conv2 (Conv2D)        (None, 21, 28, 512)       2359808   \n",
      "_________________________________________________________________\n",
      "block5_conv3 (Conv2D)        (None, 21, 28, 512)       2359808   \n",
      "_________________________________________________________________\n",
      "block5_pool (MaxPooling2D)   (None, 10, 14, 512)       0         \n",
      "=================================================================\n",
      "Total params: 14,714,688\n",
      "Trainable params: 14,714,688\n",
      "Non-trainable params: 0\n",
      "_________________________________________________________________\n",
      "_________________________________________________________________\n",
      "Layer (type)                 Output Shape              Param #   \n",
      "=================================================================\n",
      "input_4 (InputLayer)         (None, 350, 450, 3)       0         \n",
      "_________________________________________________________________\n",
      "block1_conv1 (Conv2D)        (None, 350, 450, 64)      1792      \n",
      "_________________________________________________________________\n",
      "block1_conv2 (Conv2D)        (None, 350, 450, 64)      36928     \n",
      "_________________________________________________________________\n",
      "block1_pool (MaxPooling2D)   (None, 175, 225, 64)      0         \n",
      "_________________________________________________________________\n",
      "block2_conv1 (Conv2D)        (None, 175, 225, 128)     73856     \n",
      "_________________________________________________________________\n",
      "block2_conv2 (Conv2D)        (None, 175, 225, 128)     147584    \n",
      "_________________________________________________________________\n",
      "block2_pool (MaxPooling2D)   (None, 87, 112, 128)      0         \n",
      "_________________________________________________________________\n",
      "block3_conv1 (Conv2D)        (None, 87, 112, 256)      295168    \n",
      "_________________________________________________________________\n",
      "block3_conv2 (Conv2D)        (None, 87, 112, 256)      590080    \n",
      "_________________________________________________________________\n",
      "block3_conv3 (Conv2D)        (None, 87, 112, 256)      590080    \n",
      "_________________________________________________________________\n",
      "block3_pool (MaxPooling2D)   (None, 43, 56, 256)       0         \n",
      "_________________________________________________________________\n",
      "block4_conv1 (Conv2D)        (None, 43, 56, 512)       1180160   \n",
      "_________________________________________________________________\n",
      "block4_conv2 (Conv2D)        (None, 43, 56, 512)       2359808   \n",
      "_________________________________________________________________\n",
      "block4_conv3 (Conv2D)        (None, 43, 56, 512)       2359808   \n",
      "_________________________________________________________________\n",
      "block4_pool (MaxPooling2D)   (None, 21, 28, 512)       0         \n",
      "_________________________________________________________________\n",
      "block5_conv1 (Conv2D)        (None, 21, 28, 512)       2359808   \n",
      "_________________________________________________________________\n",
      "block5_conv2 (Conv2D)        (None, 21, 28, 512)       2359808   \n",
      "_________________________________________________________________\n",
      "block5_conv3 (Conv2D)        (None, 21, 28, 512)       2359808   \n",
      "_________________________________________________________________\n",
      "block5_pool (MaxPooling2D)   (None, 10, 14, 512)       0         \n",
      "_________________________________________________________________\n",
      "flatten_4 (Flatten)          (None, 71680)             0         \n",
      "_________________________________________________________________\n",
      "batch_normalization_10 (Batc (None, 71680)             286720    \n",
      "_________________________________________________________________\n",
      "dropout_7 (Dropout)          (None, 71680)             0         \n",
      "_________________________________________________________________\n",
      "dense_7 (Dense)              (None, 64)                4587584   \n",
      "_________________________________________________________________\n",
      "batch_normalization_11 (Batc (None, 64)                256       \n",
      "_________________________________________________________________\n",
      "dropout_8 (Dropout)          (None, 64)                0         \n",
      "_________________________________________________________________\n",
      "batch_normalization_12 (Batc (None, 64)                256       \n",
      "_________________________________________________________________\n",
      "dense_8 (Dense)              (None, 4)                 260       \n",
      "=================================================================\n",
      "Total params: 19,589,764\n",
      "Trainable params: 7,091,268\n",
      "Non-trainable params: 12,498,496\n",
      "_________________________________________________________________\n"
     ]
    },
    {
     "name": "stderr",
     "output_type": "stream",
     "text": [
      "C:\\Users\\Theo\\Anaconda3\\lib\\site-packages\\ipykernel_launcher.py:42: UserWarning: Update your `Model` call to the Keras 2 API: `Model(name=\"transferNet\", inputs=Tensor(\"in..., outputs=Tensor(\"de...)`\n"
     ]
    }
   ],
   "source": [
    "# load the pre-trained model\n",
    "feature_extractor = load_backbone_net(input_shape)\n",
    "feature_extractor.summary()\n",
    "\n",
    "\n",
    "# choose the layer from which you can get the features (block5_pool the end, glob_pooling to get the pooled version of the output)\n",
    "name_output_extractor = \"block5_pool\"\n",
    "trainable_layers = [\"block5_conv3\"]\n",
    "\n",
    "# build the transfer model\n",
    "transfer_model = transferNet(feature_extractor, num_classes, name_output_extractor, trainable_layers)\n",
    "transfer_model.summary()"
   ]
  },
  {
   "cell_type": "code",
   "execution_count": 12,
   "metadata": {},
   "outputs": [],
   "source": [
    "# from tensorflow.compat.v1 import ConfigProto\n",
    "# from tensorflow.compat.v1 import InteractiveSession\n",
    "\n",
    "# tf.global_variables_initializer()\n",
    "\n",
    "# with tf.Session() as sess:\n",
    "#      sess.run(tf.global_variables_initializer())"
   ]
  },
  {
   "cell_type": "code",
   "execution_count": 25,
   "metadata": {},
   "outputs": [],
   "source": [
    "#keras.backend.get_session().run(tf.global_variables_initializer())"
   ]
  },
  {
   "cell_type": "code",
   "execution_count": 43,
   "metadata": {},
   "outputs": [],
   "source": [
    "checkpointer = ModelCheckpoint(filepath=\"best_weights.hdf5\", \n",
    "                               monitor = 'val_acc',\n",
    "                               verbose=1, \n",
    "                               save_best_only=True)"
   ]
  },
  {
   "cell_type": "code",
   "execution_count": 44,
   "metadata": {},
   "outputs": [
    {
     "name": "stdout",
     "output_type": "stream",
     "text": [
      "Epoch 1/20\n"
     ]
    },
    {
     "name": "stderr",
     "output_type": "stream",
     "text": [
      "C:\\Users\\Theo\\Anaconda3\\lib\\site-packages\\keras_preprocessing\\image\\image_data_generator.py:716: UserWarning: This ImageDataGenerator specifies `featurewise_center`, but it hasn't been fit on any training data. Fit it first by calling `.fit(numpy_data)`.\n",
      "  warnings.warn('This ImageDataGenerator specifies '\n",
      "C:\\Users\\Theo\\Anaconda3\\lib\\site-packages\\keras_preprocessing\\image\\image_data_generator.py:735: UserWarning: This ImageDataGenerator specifies `zca_whitening`, but it hasn't been fit on any training data. Fit it first by calling `.fit(numpy_data)`.\n",
      "  warnings.warn('This ImageDataGenerator specifies '\n"
     ]
    },
    {
     "name": "stdout",
     "output_type": "stream",
     "text": [
      " 33/100 [========>.....................] - ETA: 2:06 - loss: 1.3174 - acc: 0.5258"
     ]
    },
    {
     "name": "stderr",
     "output_type": "stream",
     "text": [
      "C:\\Users\\Theo\\Anaconda3\\lib\\site-packages\\PIL\\TiffImagePlugin.py:763: UserWarning: Possibly corrupt EXIF data.  Expecting to read 4718592 bytes but only got 0. Skipping tag 0\n",
      "  \" Skipping tag %s\" % (size, len(data), tag))\n",
      "C:\\Users\\Theo\\Anaconda3\\lib\\site-packages\\PIL\\TiffImagePlugin.py:763: UserWarning: Possibly corrupt EXIF data.  Expecting to read 131072 bytes but only got 0. Skipping tag 0\n",
      "  \" Skipping tag %s\" % (size, len(data), tag))\n",
      "C:\\Users\\Theo\\Anaconda3\\lib\\site-packages\\PIL\\TiffImagePlugin.py:763: UserWarning: Possibly corrupt EXIF data.  Expecting to read 1048576 bytes but only got 0. Skipping tag 0\n",
      "  \" Skipping tag %s\" % (size, len(data), tag))\n"
     ]
    },
    {
     "name": "stdout",
     "output_type": "stream",
     "text": [
      " 40/100 [===========>..................] - ETA: 1:53 - loss: 1.2220 - acc: 0.5538"
     ]
    },
    {
     "name": "stderr",
     "output_type": "stream",
     "text": [
      "C:\\Users\\Theo\\Anaconda3\\lib\\site-packages\\PIL\\TiffImagePlugin.py:763: UserWarning: Possibly corrupt EXIF data.  Expecting to read 8 bytes but only got 4. Skipping tag 41486\n",
      "  \" Skipping tag %s\" % (size, len(data), tag))\n",
      "C:\\Users\\Theo\\Anaconda3\\lib\\site-packages\\PIL\\TiffImagePlugin.py:763: UserWarning: Possibly corrupt EXIF data.  Expecting to read 8 bytes but only got 0. Skipping tag 41487\n",
      "  \" Skipping tag %s\" % (size, len(data), tag))\n"
     ]
    },
    {
     "name": "stdout",
     "output_type": "stream",
     "text": [
      " 71/100 [====================>.........] - ETA: 54s - loss: 1.1071 - acc: 0.5915"
     ]
    },
    {
     "name": "stderr",
     "output_type": "stream",
     "text": [
      "C:\\Users\\Theo\\Anaconda3\\lib\\site-packages\\PIL\\TiffImagePlugin.py:780: UserWarning: Corrupt EXIF data.  Expecting to read 4 bytes but only got 0. \n",
      "  warnings.warn(str(msg))\n"
     ]
    },
    {
     "name": "stdout",
     "output_type": "stream",
     "text": [
      " 89/100 [=========================>....] - ETA: 20s - loss: 1.0444 - acc: 0.6140"
     ]
    },
    {
     "name": "stderr",
     "output_type": "stream",
     "text": [
      "C:\\Users\\Theo\\Anaconda3\\lib\\site-packages\\PIL\\TiffImagePlugin.py:763: UserWarning: Possibly corrupt EXIF data.  Expecting to read 8 bytes but only got 2. Skipping tag 41486\n",
      "  \" Skipping tag %s\" % (size, len(data), tag))\n"
     ]
    },
    {
     "name": "stdout",
     "output_type": "stream",
     "text": [
      "100/100 [==============================] - 344s 3s/step - loss: 1.0296 - acc: 0.6190 - val_loss: 1.8338 - val_acc: 0.4259\n",
      "\n",
      "Epoch 00001: val_acc improved from -inf to 0.42594, saving model to best_weights.hdf5\n",
      "Epoch 2/20\n",
      "100/100 [==============================] - 341s 3s/step - loss: 0.7448 - acc: 0.7155 - val_loss: 1.5489 - val_acc: 0.4585\n",
      "\n",
      "Epoch 00002: val_acc improved from 0.42594 to 0.45853, saving model to best_weights.hdf5\n",
      "Epoch 3/20\n",
      "100/100 [==============================] - 348s 3s/step - loss: 0.6882 - acc: 0.7355 - val_loss: 1.5803 - val_acc: 0.4941\n",
      "\n",
      "Epoch 00003: val_acc improved from 0.45853 to 0.49408, saving model to best_weights.hdf5\n",
      "Epoch 4/20\n",
      "100/100 [==============================] - 351s 4s/step - loss: 0.6171 - acc: 0.7560 - val_loss: 1.3762 - val_acc: 0.5046\n",
      "\n",
      "Epoch 00004: val_acc improved from 0.49408 to 0.50461, saving model to best_weights.hdf5\n",
      "Epoch 5/20\n",
      "100/100 [==============================] - 356s 4s/step - loss: 0.5947 - acc: 0.7675 - val_loss: 1.7067 - val_acc: 0.4398\n",
      "\n",
      "Epoch 00005: val_acc did not improve from 0.50461\n",
      "Epoch 6/20\n",
      "100/100 [==============================] - 354s 4s/step - loss: 0.5304 - acc: 0.7855 - val_loss: 1.5815 - val_acc: 0.4803\n",
      "\n",
      "Epoch 00006: val_acc did not improve from 0.50461\n",
      "Epoch 7/20\n",
      "100/100 [==============================] - 354s 4s/step - loss: 0.5450 - acc: 0.7970 - val_loss: 1.6874 - val_acc: 0.4635\n",
      "\n",
      "Epoch 00007: val_acc did not improve from 0.50461\n",
      "Epoch 8/20\n",
      "100/100 [==============================] - 353s 4s/step - loss: 0.5456 - acc: 0.7985 - val_loss: 1.2837 - val_acc: 0.5326\n",
      "\n",
      "Epoch 00008: val_acc improved from 0.50461 to 0.53259, saving model to best_weights.hdf5\n",
      "Epoch 9/20\n",
      "100/100 [==============================] - 354s 4s/step - loss: 0.5345 - acc: 0.8045 - val_loss: 1.3769 - val_acc: 0.5188\n",
      "\n",
      "Epoch 00009: val_acc did not improve from 0.53259\n",
      "Epoch 10/20\n",
      "100/100 [==============================] - 346s 3s/step - loss: 0.5385 - acc: 0.7965 - val_loss: 1.5703 - val_acc: 0.4997\n",
      "\n",
      "Epoch 00010: val_acc did not improve from 0.53259\n",
      "Epoch 11/20\n",
      "100/100 [==============================] - 346s 3s/step - loss: 0.5203 - acc: 0.8045 - val_loss: 1.4262 - val_acc: 0.5342\n",
      "\n",
      "Epoch 00011: val_acc improved from 0.53259 to 0.53423, saving model to best_weights.hdf5\n",
      "Epoch 12/20\n",
      "100/100 [==============================] - 341s 3s/step - loss: 0.5207 - acc: 0.8005 - val_loss: 1.3434 - val_acc: 0.5346\n",
      "\n",
      "Epoch 00012: val_acc improved from 0.53423 to 0.53456, saving model to best_weights.hdf5\n",
      "Epoch 13/20\n",
      "100/100 [==============================] - 338s 3s/step - loss: 0.4901 - acc: 0.8170 - val_loss: 1.4980 - val_acc: 0.5421\n",
      "\n",
      "Epoch 00013: val_acc improved from 0.53456 to 0.54213, saving model to best_weights.hdf5\n",
      "Epoch 14/20\n",
      "100/100 [==============================] - 338s 3s/step - loss: 0.4756 - acc: 0.8170 - val_loss: 1.7689 - val_acc: 0.4651\n",
      "\n",
      "Epoch 00014: val_acc did not improve from 0.54213\n",
      "Epoch 15/20\n",
      "100/100 [==============================] - 394s 4s/step - loss: 0.4579 - acc: 0.8360 - val_loss: 1.5648 - val_acc: 0.4885\n",
      "\n",
      "Epoch 00015: val_acc did not improve from 0.54213\n",
      "Epoch 16/20\n",
      "100/100 [==============================] - 347s 3s/step - loss: 0.4596 - acc: 0.8210 - val_loss: 1.5548 - val_acc: 0.5263\n",
      "\n",
      "Epoch 00016: val_acc did not improve from 0.54213\n",
      "Epoch 17/20\n",
      "100/100 [==============================] - 349s 3s/step - loss: 0.4499 - acc: 0.8355 - val_loss: 1.4450 - val_acc: 0.5342\n",
      "\n",
      "Epoch 00017: val_acc did not improve from 0.54213\n"
     ]
    }
   ],
   "source": [
    "# fit the transferNet on the training data\n",
    "stopping = callbacks.EarlyStopping(monitor='val_acc', patience=4)\n",
    "\n",
    "steps_per_epoch = train_generator.n//train_generator.batch_size\n",
    "val_steps = test_generator.n//test_generator.batch_size+1\n",
    "\n",
    "try:\n",
    "    history_transfer = transfer_model.fit_generator(train_generator, epochs=20, verbose=1, callbacks=[stopping,checkpointer],\\\n",
    "                    steps_per_epoch=steps_per_epoch,\n",
    "                    validation_data=test_generator,\n",
    "                    validation_steps=val_steps,\n",
    "                    use_multiprocessing=True,\n",
    "                    workers=0)\n",
    "except KeyboardInterrupt:\n",
    "    pass"
   ]
  },
  {
   "cell_type": "code",
   "execution_count": 45,
   "metadata": {},
   "outputs": [
    {
     "name": "stdout",
     "output_type": "stream",
     "text": [
      "152/152 [==============================] - 157s 1s/step\n",
      "Test loss: 1.445015\n",
      "Test accuracy: 0.534233\n"
     ]
    }
   ],
   "source": [
    "loss, acc = transfer_model.evaluate_generator(test_generator,verbose=1,steps=val_steps, use_multiprocessing=True,workers=0)\n",
    "print('Test loss: %f' %loss)\n",
    "print('Test accuracy: %f' %acc)"
   ]
  },
  {
   "cell_type": "code",
   "execution_count": 34,
   "metadata": {},
   "outputs": [],
   "source": [
    "#transfer_model.load_weights('best_weights.hdf5')\n"
   ]
  },
  {
   "cell_type": "code",
   "execution_count": 48,
   "metadata": {},
   "outputs": [],
   "source": [
    "transfer_model.save('MWI-2000-4classes-VGG-17epochs')"
   ]
  },
  {
   "cell_type": "code",
   "execution_count": 53,
   "metadata": {},
   "outputs": [],
   "source": [
    "transfer_model = load_model('MWI-2000-4classes-VGG-17epochs')"
   ]
  },
  {
   "cell_type": "code",
   "execution_count": 54,
   "metadata": {},
   "outputs": [
    {
     "name": "stdout",
     "output_type": "stream",
     "text": [
      "152/152 [==============================] - 130s 854ms/step\n",
      "              precision    recall  f1-score   support\n",
      "\n",
      "        HAZE      0.000     0.000     0.000         0\n",
      "       RAINY      0.367     0.509     0.426       521\n",
      "       SNOWY      0.674     0.706     0.690      1421\n",
      "       SUNNY      0.809     0.324     0.463      1096\n",
      "\n",
      "   micro avg      0.534     0.534     0.534      3038\n",
      "   macro avg      0.462     0.385     0.395      3038\n",
      "weighted avg      0.670     0.534     0.563      3038\n",
      "\n"
     ]
    },
    {
     "name": "stderr",
     "output_type": "stream",
     "text": [
      "C:\\Users\\Theo\\Anaconda3\\lib\\site-packages\\sklearn\\metrics\\classification.py:1145: UndefinedMetricWarning: Recall and F-score are ill-defined and being set to 0.0 in labels with no true samples.\n",
      "  'recall', 'true', average, warn_for)\n"
     ]
    }
   ],
   "source": [
    "preds = transfer_model.predict_generator(test_generator,verbose=1,steps=val_steps)\n",
    "\n",
    "Ypred = np.argmax(preds, axis=1)\n",
    "Ytest = test_generator.classes  # shuffle=False in test_generator\n",
    "\n",
    "print(classification_report(Ytest, Ypred, labels=None, target_names=classnames, digits=3))\n"
   ]
  },
  {
   "cell_type": "code",
   "execution_count": 55,
   "metadata": {},
   "outputs": [
    {
     "name": "stdout",
     "output_type": "stream",
     "text": [
      "152/152 [==============================] - 130s 856ms/step\n",
      "True                 Predicted         \terrors \terr % \n",
      "------------------------------------------------------------------\n",
      "SUNNY            ->  RAINY             \t321 \t10.57 % \n",
      "SUNNY            ->  SNOWY             \t313 \t10.30 % \n",
      "SUNNY            ->  HAZE              \t154 \t5.07 % \n",
      "RAINY            ->  HAZE              \t148 \t4.87 % \n",
      "SNOWY            ->  RAINY             \t146 \t4.81 % \n",
      "SNOWY            ->  SUNNY             \t129 \t4.25 % \n",
      "RAINY            ->  SNOWY             \t116 \t3.82 % \n",
      "SNOWY            ->  HAZE              \t87 \t2.86 % \n",
      "RAINY            ->  SUNNY             \t2 \t0.07 % \n"
     ]
    }
   ],
   "source": [
    "# predictions from transferNet\n",
    "preds = transfer_model.predict_generator(test_generator,verbose=1,steps=val_steps)\n",
    "\n",
    "Ypred = np.argmax(preds, axis=1)\n",
    "Ytest = test_generator.classes  # shuffle=False in test_generator\n",
    "\n",
    "cm = confusion_matrix(Ytest, Ypred)\n",
    "\n",
    "conf = [] # data structure for confusions: list of (i,j,cm[i][j])\n",
    "for i in range(0,cm.shape[0]):\n",
    "    for j in range(0,cm.shape[1]):\n",
    "        if (i!=j and cm[i][j]>0):\n",
    "            conf.append([i,j,cm[i][j]])\n",
    "\n",
    "col=2\n",
    "conf = np.array(conf)\n",
    "conf = conf[np.argsort(-conf[:,col])]  # decreasing order by 3-rd column (i.e., cm[i][j])\n",
    "\n",
    "print('%-16s     %-16s  \\t%s \\t%s ' %('True','Predicted','errors','err %'))\n",
    "print('------------------------------------------------------------------')\n",
    "for k in conf:\n",
    "    print('%-16s ->  %-16s  \\t%d \\t%.2f %% ' %(classnames[k[0]],classnames[k[1]],k[2],k[2]*100.0/test_generator.n))"
   ]
  },
  {
   "cell_type": "code",
   "execution_count": 56,
   "metadata": {},
   "outputs": [
    {
     "data": {
      "image/png": "[encoded data removed]",
      "text/plain": [
       "<Figure size 432x288 with 1 Axes>"
      ]
     },
     "metadata": {
      "needs_background": "light"
     },
     "output_type": "display_data"
    },
    {
     "data": {
      "image/png": "[encoded data removed]",
      "text/plain": [
       "<Figure size 432x288 with 1 Axes>"
      ]
     },
     "metadata": {
      "needs_background": "light"
     },
     "output_type": "display_data"
    }
   ],
   "source": [
    "def plot_history(history,name):\n",
    "\n",
    "    # summarize history for accuracy\n",
    "    plt.plot(history.history['acc'])\n",
    "    plt.plot(history.history['val_acc'])\n",
    "    plt.title(name + ' accuracy')\n",
    "    plt.ylabel('accuracy')\n",
    "    plt.xlabel('epoch')\n",
    "    plt.legend(['train', 'test'], loc='upper left')\n",
    "    plt.show()\n",
    "    # summarize history for loss\n",
    "    plt.plot(history.history['loss'])\n",
    "    plt.plot(history.history['val_loss'])\n",
    "    plt.title(name + ' loss')\n",
    "    plt.ylabel('loss')\n",
    "    plt.xlabel('epoch')\n",
    "    plt.legend(['train', 'test'], loc='upper left')\n",
    "    plt.show()\n",
    "\n",
    "\n",
    "name=\"transferNet\"\n",
    "plot_history(history_transfer, name)\n"
   ]
  },
  {
   "cell_type": "code",
   "execution_count": 98,
   "metadata": {},
   "outputs": [],
   "source": [
    "import os"
   ]
  },
  {
   "cell_type": "code",
   "execution_count": 105,
   "metadata": {},
   "outputs": [],
   "source": [
    "pred_list=[]\n",
    "img_dir='D:/sapienza\\ML/WeatherBlindTestSet/'\n",
    "for i,img in enumerate(os.listdir(img_dir)):\n",
    "    img = image.load_img(os.path.join(img_dir,img), target_size=(350,450))\n",
    "    img_tensor = image.img_to_array(img)                    # (height, width, channels)\n",
    "    img_tensor = np.expand_dims(img_tensor, axis=0)         # (1, height, width, channels), add a dimension because the model expects this shape: (batch_size, height, width, channels)\n",
    "    img_tensor /= 255.                                      # imshow expects values in the range [0, 1]\n",
    "\n",
    "    result=model.predict(img_tensor)\n",
    "    pred_list.append(np.argmax(result))\n",
    "    \n"
   ]
  },
  {
   "cell_type": "code",
   "execution_count": 127,
   "metadata": {},
   "outputs": [],
   "source": [
    "inv_map = dict(zip(train_generator.class_indices.values(), train_generator.class_indices.keys()))"
   ]
  },
  {
   "cell_type": "code",
   "execution_count": 138,
   "metadata": {},
   "outputs": [],
   "source": [
    "import csv\n"
   ]
  },
  {
   "cell_type": "code",
   "execution_count": 147,
   "metadata": {},
   "outputs": [],
   "source": [
    "#new_preds=[]\n",
    "#for item in pred_list:\n",
    "    #new_preds.append(inv_map[item])\n",
    "    \n",
    "with open('predictions.csv', mode='w') as file:\n",
    "    writer=csv.writer(file,delimiter='\\t',lineterminator='\\n')\n",
    "    for item in pred_list:\n",
    "        writer.writerow(inv_map[item])\n",
    "    \n",
    "        \n",
    "        "
   ]
  },
  {
   "cell_type": "code",
   "execution_count": 142,
   "metadata": {},
   "outputs": [
    {
     "data": {
      "text/plain": [
       "'C:\\\\Users\\\\Theo'"
      ]
     },
     "execution_count": 142,
     "metadata": {},
     "output_type": "execute_result"
    }
   ],
   "source": [
    "pwd"
   ]
  },
  {
   "cell_type": "code",
   "execution_count": null,
   "metadata": {},
   "outputs": [],
   "source": []
  }
 ],
 "metadata": {
  "kernelspec": {
   "display_name": "Python 3",
   "language": "python",
   "name": "python3"
  },
  "language_info": {
   "codemirror_mode": {
    "name": "ipython",
    "version": 3
   },
   "file_extension": ".py",
   "mimetype": "text/x-python",
   "name": "python",
   "nbconvert_exporter": "python",
   "pygments_lexer": "ipython3",
   "version": "3.7.3"
  }
 },
 "nbformat": 4,
 "nbformat_minor": 2
}
