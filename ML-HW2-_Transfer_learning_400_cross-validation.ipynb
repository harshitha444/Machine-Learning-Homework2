{
 "cells": [
  {
   "cell_type": "code",
   "execution_count": 2,
   "metadata": {},
   "outputs": [
    {
     "name": "stderr",
     "output_type": "stream",
     "text": [
      "Using TensorFlow backend.\n"
     ]
    }
   ],
   "source": [
    "from keras.preprocessing.image import ImageDataGenerator\n",
    "import matplotlib.pyplot as plt\n",
    "from keras.models import Sequential\n",
    "from keras.layers import Dense, Activation, Dropout, Flatten,\\\n",
    "                         Conv2D, MaxPooling2D, AveragePooling2D, GlobalAveragePooling2D,\\\n",
    "                          UpSampling2D\n",
    "from keras.layers.normalization import BatchNormalization\n",
    "from keras import regularizers\n",
    "from keras import optimizers\n",
    "import keras\n",
    "import tensorflow as tf\n",
    "from keras import callbacks\n",
    "import numpy as np\n",
    "from sklearn.metrics import classification_report, confusion_matrix\n",
    "import matplotlib.pyplot as plt\n",
    "from keras.callbacks import ModelCheckpoint\n",
    "from keras import optimizers\n",
    "from keras import applications\n",
    "from keras.models import Model, Input\n"
   ]
  },
  {
   "cell_type": "code",
   "execution_count": 2,
   "metadata": {},
   "outputs": [
    {
     "data": {
      "text/plain": [
       "<function tensorflow.python.framework.test_util.is_gpu_available(cuda_only=False, min_cuda_compute_capability=None)>"
      ]
     },
     "execution_count": 2,
     "metadata": {},
     "output_type": "execute_result"
    }
   ],
   "source": [
    "tf.test.is_gpu_available"
   ]
  },
  {
   "cell_type": "code",
   "execution_count": 3,
   "metadata": {},
   "outputs": [],
   "source": [
    "#from tensorflow.python.client import device_lib\n",
    "#print(device_lib.list_local_devices())\n"
   ]
  },
  {
   "cell_type": "code",
   "execution_count": 4,
   "metadata": {},
   "outputs": [],
   "source": [
    "# with tf.device('/gpu:0'):\n",
    "#     a = tf.constant([1.0, 2.0, 3.0, 4.0, 5.0, 6.0], shape=[2, 3], name='a')\n",
    "#     b = tf.constant([1.0, 2.0, 3.0, 4.0, 5.0, 6.0], shape=[3, 2], name='b')\n",
    "#     c = tf.matmul(a, b)\n",
    "\n",
    "# with tf.Session() as sess:\n",
    "#     print (sess.run(c))"
   ]
  },
  {
   "cell_type": "code",
   "execution_count": 5,
   "metadata": {},
   "outputs": [],
   "source": [
    "# from keras import backend as K\n",
    "# K.tensorflow_backend._get_available_gpus()"
   ]
  },
  {
   "cell_type": "code",
   "execution_count": 3,
   "metadata": {},
   "outputs": [],
   "source": [
    "datadir = 'D:\\sapienza\\ML\\MWI-Dataset'\n"
   ]
  },
  {
   "cell_type": "code",
   "execution_count": 4,
   "metadata": {},
   "outputs": [],
   "source": [
    "testdir = 'D:\\sapienza\\ML\\Weather_dataset'\n"
   ]
  },
  {
   "cell_type": "code",
   "execution_count": 5,
   "metadata": {},
   "outputs": [
    {
     "name": "stderr",
     "output_type": "stream",
     "text": [
      "C:\\Users\\Theo\\Anaconda3\\lib\\site-packages\\keras_preprocessing\\image\\image_data_generator.py:336: UserWarning: This ImageDataGenerator specifies `zca_whitening`, which overrides setting of `featurewise_center`.\n",
      "  warnings.warn('This ImageDataGenerator specifies '\n"
     ]
    },
    {
     "name": "stdout",
     "output_type": "stream",
     "text": [
      "Found 400 images belonging to 4 classes.\n",
      "Found 3038 images belonging to 4 classes.\n"
     ]
    }
   ],
   "source": [
    "batch_size = 20\n",
    "input_shape = ()\n",
    "train_datagen = ImageDataGenerator(\n",
    "    rescale = 1. / 255,\\\n",
    "    zoom_range=0.4,\\\n",
    "    rotation_range=60,\\\n",
    "    width_shift_range=0.3,\\\n",
    "    height_shift_range=0.3,\\\n",
    "    horizontal_flip=True,\\\n",
    "    shear_range=0.3,\n",
    "    zca_whitening=True,\n",
    "    brightness_range=[0.5, 1.5],\n",
    "    vertical_flip=False)\n",
    "\n",
    "train_generator = train_datagen.flow_from_directory(\n",
    "    directory=datadir,\n",
    "    target_size=(350, 450),\n",
    "    color_mode=\"rgb\",\n",
    "    batch_size=batch_size,\n",
    "    class_mode=\"categorical\",\n",
    "    shuffle=True,\n",
    "    seed=7\n",
    ")\n",
    "\n",
    "test_datagen = ImageDataGenerator(\n",
    "    rescale = 1. / 255)\n",
    "\n",
    "test_generator = test_datagen.flow_from_directory(\n",
    "    directory=testdir,\n",
    "    target_size=(350, 450),\n",
    "    color_mode=\"rgb\",\n",
    "    batch_size=batch_size,\n",
    "    class_mode=\"categorical\",\n",
    "    shuffle=False,\n",
    "    seed=7\n",
    ")\n",
    "\n",
    "num_samples = train_generator.n\n",
    "num_classes = train_generator.num_classes\n",
    "input_shape = train_generator.image_shape\n",
    "\n",
    "classnames = [k for k,v in train_generator.class_indices.items()]"
   ]
  },
  {
   "cell_type": "code",
   "execution_count": 6,
   "metadata": {},
   "outputs": [
    {
     "data": {
      "text/plain": [
       "['HAZE', 'RAINY', 'SNOWY', 'SUNNY']"
      ]
     },
     "execution_count": 6,
     "metadata": {},
     "output_type": "execute_result"
    }
   ],
   "source": [
    "classnames"
   ]
  },
  {
   "cell_type": "code",
   "execution_count": 33,
   "metadata": {},
   "outputs": [],
   "source": [
    "def load_backbone_net(input_shape):\n",
    "    \n",
    "    # define input tensor\n",
    "    input0 = Input(shape=input_shape)\n",
    "\n",
    "    # load a pretrained model on imagenet without the final dense layer\n",
    "    feature_extractor = applications.vgg16.VGG16(include_top=False, weights='imagenet', input_tensor=input0)\n",
    "    \n",
    "    \n",
    "    feature_extractor = feature_extractor.output\n",
    "    feature_extractor = Model(input=input0, output=feature_extractor)\n",
    "    optimizer = 'SGD' #alternative 'SGD'\n",
    "\n",
    "    feature_extractor.compile(loss=keras.losses.categorical_crossentropy, optimizer=optimizers.SGD(lr=1e-3,momentum=0.9,nesterov=True), metrics=['accuracy'])\n",
    "\n",
    "    return feature_extractor\n"
   ]
  },
  {
   "cell_type": "code",
   "execution_count": 34,
   "metadata": {},
   "outputs": [],
   "source": [
    "def transferNet(feature_extractor, num_classes, output_layer_name, trainable_layers):\n",
    "    \n",
    "    # get the original input layer tensor\n",
    "    input_t = feature_extractor.get_layer(index=0).input\n",
    "\n",
    "    # set the feture extractor layers as non-trainable\n",
    "    for idx,layer in enumerate(feature_extractor.layers):\n",
    "        if layer.name in trainable_layers:\n",
    "            layer.trainable = True\n",
    "        else:\n",
    "            layer.trainable = False\n",
    "\n",
    "    # get the output tensor from a layer of the feature extractor\n",
    "    output_extractor = feature_extractor.get_layer(name = output_layer_name).output\n",
    "    \n",
    "    #output_extractor = MaxPooling2D(pool_size=(4,4))(output_extractor)\n",
    "\n",
    "    # flat the output of a Conv layer\n",
    "    flatten = Flatten()(output_extractor) \n",
    "    flatten_norm = BatchNormalization()(flatten)\n",
    "\n",
    "    # add a Dense layer\n",
    "    dense = Dropout(0.4)(flatten_norm)\n",
    "    #dense = Dense(200, activation='relu')(dense)\n",
    "    #dense = BatchNormalization()(dense)\n",
    "    \n",
    "    # add a Dense layer\n",
    "    #dense = Dropout(0.4)(dense)\n",
    "    dense = Dense(64, activation='relu')(dense)\n",
    "    dense = BatchNormalization()(dense)\n",
    "    dense = Dropout(0.2)(dense)\n",
    "\n",
    "    # add the final output layer\n",
    "    dense = BatchNormalization()(dense)\n",
    "    dense = Dense(num_classes, activation='softmax')(dense)\n",
    "    \n",
    "\n",
    "    model = Model(input=input_t, output=dense, name=\"transferNet\")\n",
    "    \n",
    "   # optimizer = 'adam' #alternative 'SGD'\n",
    "    model.compile(loss=keras.losses.categorical_crossentropy, optimizer=optimizers.SGD(lr=1e-3,nesterov=True,momentum=0.9), metrics=['accuracy'])\n",
    "\n",
    "    return model"
   ]
  },
  {
   "cell_type": "code",
   "execution_count": 35,
   "metadata": {},
   "outputs": [
    {
     "name": "stderr",
     "output_type": "stream",
     "text": [
      "C:\\Users\\Theo\\Anaconda3\\lib\\site-packages\\ipykernel_launcher.py:11: UserWarning: Update your `Model` call to the Keras 2 API: `Model(inputs=Tensor(\"in..., outputs=Tensor(\"bl...)`\n",
      "  # This is added back by InteractiveShellApp.init_path()\n"
     ]
    },
    {
     "name": "stdout",
     "output_type": "stream",
     "text": [
      "_________________________________________________________________\n",
      "Layer (type)                 Output Shape              Param #   \n",
      "=================================================================\n",
      "input_2 (InputLayer)         (None, 350, 450, 3)       0         \n",
      "_________________________________________________________________\n",
      "block1_conv1 (Conv2D)        (None, 350, 450, 64)      1792      \n",
      "_________________________________________________________________\n",
      "block1_conv2 (Conv2D)        (None, 350, 450, 64)      36928     \n",
      "_________________________________________________________________\n",
      "block1_pool (MaxPooling2D)   (None, 175, 225, 64)      0         \n",
      "_________________________________________________________________\n",
      "block2_conv1 (Conv2D)        (None, 175, 225, 128)     73856     \n",
      "_________________________________________________________________\n",
      "block2_conv2 (Conv2D)        (None, 175, 225, 128)     147584    \n",
      "_________________________________________________________________\n",
      "block2_pool (MaxPooling2D)   (None, 87, 112, 128)      0         \n",
      "_________________________________________________________________\n",
      "block3_conv1 (Conv2D)        (None, 87, 112, 256)      295168    \n",
      "_________________________________________________________________\n",
      "block3_conv2 (Conv2D)        (None, 87, 112, 256)      590080    \n",
      "_________________________________________________________________\n",
      "block3_conv3 (Conv2D)        (None, 87, 112, 256)      590080    \n",
      "_________________________________________________________________\n",
      "block3_pool (MaxPooling2D)   (None, 43, 56, 256)       0         \n",
      "_________________________________________________________________\n",
      "block4_conv1 (Conv2D)        (None, 43, 56, 512)       1180160   \n",
      "_________________________________________________________________\n",
      "block4_conv2 (Conv2D)        (None, 43, 56, 512)       2359808   \n",
      "_________________________________________________________________\n",
      "block4_conv3 (Conv2D)        (None, 43, 56, 512)       2359808   \n",
      "_________________________________________________________________\n",
      "block4_pool (MaxPooling2D)   (None, 21, 28, 512)       0         \n",
      "_________________________________________________________________\n",
      "block5_conv1 (Conv2D)        (None, 21, 28, 512)       2359808   \n",
      "_________________________________________________________________\n",
      "block5_conv2 (Conv2D)        (None, 21, 28, 512)       2359808   \n",
      "_________________________________________________________________\n",
      "block5_conv3 (Conv2D)        (None, 21, 28, 512)       2359808   \n",
      "_________________________________________________________________\n",
      "block5_pool (MaxPooling2D)   (None, 10, 14, 512)       0         \n",
      "=================================================================\n",
      "Total params: 14,714,688\n",
      "Trainable params: 14,714,688\n",
      "Non-trainable params: 0\n",
      "_________________________________________________________________\n",
      "_________________________________________________________________\n",
      "Layer (type)                 Output Shape              Param #   \n",
      "=================================================================\n",
      "input_2 (InputLayer)         (None, 350, 450, 3)       0         \n",
      "_________________________________________________________________\n",
      "block1_conv1 (Conv2D)        (None, 350, 450, 64)      1792      \n",
      "_________________________________________________________________\n",
      "block1_conv2 (Conv2D)        (None, 350, 450, 64)      36928     \n",
      "_________________________________________________________________\n",
      "block1_pool (MaxPooling2D)   (None, 175, 225, 64)      0         \n",
      "_________________________________________________________________\n",
      "block2_conv1 (Conv2D)        (None, 175, 225, 128)     73856     \n",
      "_________________________________________________________________\n",
      "block2_conv2 (Conv2D)        (None, 175, 225, 128)     147584    \n",
      "_________________________________________________________________\n",
      "block2_pool (MaxPooling2D)   (None, 87, 112, 128)      0         \n",
      "_________________________________________________________________\n",
      "block3_conv1 (Conv2D)        (None, 87, 112, 256)      295168    \n",
      "_________________________________________________________________\n",
      "block3_conv2 (Conv2D)        (None, 87, 112, 256)      590080    \n",
      "_________________________________________________________________\n",
      "block3_conv3 (Conv2D)        (None, 87, 112, 256)      590080    \n",
      "_________________________________________________________________\n",
      "block3_pool (MaxPooling2D)   (None, 43, 56, 256)       0         \n",
      "_________________________________________________________________\n",
      "block4_conv1 (Conv2D)        (None, 43, 56, 512)       1180160   \n",
      "_________________________________________________________________\n",
      "block4_conv2 (Conv2D)        (None, 43, 56, 512)       2359808   \n",
      "_________________________________________________________________\n",
      "block4_conv3 (Conv2D)        (None, 43, 56, 512)       2359808   \n",
      "_________________________________________________________________\n",
      "block4_pool (MaxPooling2D)   (None, 21, 28, 512)       0         \n",
      "_________________________________________________________________\n",
      "block5_conv1 (Conv2D)        (None, 21, 28, 512)       2359808   \n",
      "_________________________________________________________________\n",
      "block5_conv2 (Conv2D)        (None, 21, 28, 512)       2359808   \n",
      "_________________________________________________________________\n",
      "block5_conv3 (Conv2D)        (None, 21, 28, 512)       2359808   \n",
      "_________________________________________________________________\n",
      "block5_pool (MaxPooling2D)   (None, 10, 14, 512)       0         \n",
      "_________________________________________________________________\n",
      "flatten_2 (Flatten)          (None, 71680)             0         \n",
      "_________________________________________________________________\n",
      "batch_normalization_4 (Batch (None, 71680)             286720    \n",
      "_________________________________________________________________\n",
      "dropout_3 (Dropout)          (None, 71680)             0         \n",
      "_________________________________________________________________\n",
      "dense_3 (Dense)              (None, 64)                4587584   \n",
      "_________________________________________________________________\n",
      "batch_normalization_5 (Batch (None, 64)                256       \n",
      "_________________________________________________________________\n",
      "dropout_4 (Dropout)          (None, 64)                0         \n",
      "_________________________________________________________________\n",
      "batch_normalization_6 (Batch (None, 64)                256       \n",
      "_________________________________________________________________\n",
      "dense_4 (Dense)              (None, 4)                 260       \n",
      "=================================================================\n",
      "Total params: 19,589,764\n",
      "Trainable params: 7,091,268\n",
      "Non-trainable params: 12,498,496\n",
      "_________________________________________________________________\n"
     ]
    },
    {
     "name": "stderr",
     "output_type": "stream",
     "text": [
      "C:\\Users\\Theo\\Anaconda3\\lib\\site-packages\\ipykernel_launcher.py:38: UserWarning: Update your `Model` call to the Keras 2 API: `Model(name=\"transferNet\", inputs=Tensor(\"in..., outputs=Tensor(\"de...)`\n"
     ]
    }
   ],
   "source": [
    "# load the pre-trained model\n",
    "feature_extractor = load_backbone_net(input_shape)\n",
    "feature_extractor.summary()\n",
    "\n",
    "\n",
    "# choose the layer from which you can get the features (block5_pool the end, glob_pooling to get the pooled version of the output)\n",
    "name_output_extractor = \"block5_pool\"\n",
    "trainable_layers = [\"block5_conv3\"]\n",
    "\n",
    "# build the transfer model\n",
    "transfer_model = transferNet(feature_extractor, num_classes, name_output_extractor, trainable_layers)\n",
    "transfer_model.summary()"
   ]
  },
  {
   "cell_type": "code",
   "execution_count": 24,
   "metadata": {},
   "outputs": [],
   "source": [
    "# from tensorflow.compat.v1 import ConfigProto\n",
    "# from tensorflow.compat.v1 import InteractiveSession\n",
    "\n",
    "# tf.global_variables_initializer()\n",
    "\n",
    "# with tf.Session() as sess:\n",
    "#      sess.run(tf.global_variables_initializer())"
   ]
  },
  {
   "cell_type": "code",
   "execution_count": 25,
   "metadata": {},
   "outputs": [],
   "source": [
    "#keras.backend.get_session().run(tf.global_variables_initializer())"
   ]
  },
  {
   "cell_type": "code",
   "execution_count": 36,
   "metadata": {},
   "outputs": [],
   "source": [
    "checkpointer = ModelCheckpoint(filepath=\"best_weights.hdf6\", \n",
    "                               monitor = 'val_acc',\n",
    "                               verbose=1, \n",
    "                               save_best_only=True)"
   ]
  },
  {
   "cell_type": "code",
   "execution_count": 37,
   "metadata": {},
   "outputs": [
    {
     "name": "stdout",
     "output_type": "stream",
     "text": [
      "Epoch 1/20\n"
     ]
    },
    {
     "name": "stderr",
     "output_type": "stream",
     "text": [
      "C:\\Users\\Theo\\Anaconda3\\lib\\site-packages\\keras_preprocessing\\image\\image_data_generator.py:716: UserWarning: This ImageDataGenerator specifies `featurewise_center`, but it hasn't been fit on any training data. Fit it first by calling `.fit(numpy_data)`.\n",
      "  warnings.warn('This ImageDataGenerator specifies '\n",
      "C:\\Users\\Theo\\Anaconda3\\lib\\site-packages\\keras_preprocessing\\image\\image_data_generator.py:735: UserWarning: This ImageDataGenerator specifies `zca_whitening`, but it hasn't been fit on any training data. Fit it first by calling `.fit(numpy_data)`.\n",
      "  warnings.warn('This ImageDataGenerator specifies '\n"
     ]
    },
    {
     "name": "stdout",
     "output_type": "stream",
     "text": [
      "15/20 [=====================>........] - ETA: 10s - loss: 1.3762 - acc: 0.5067"
     ]
    },
    {
     "name": "stderr",
     "output_type": "stream",
     "text": [
      "C:\\Users\\Theo\\Anaconda3\\lib\\site-packages\\PIL\\TiffImagePlugin.py:780: UserWarning: Corrupt EXIF data.  Expecting to read 4 bytes but only got 0. \n",
      "  warnings.warn(str(msg))\n"
     ]
    },
    {
     "name": "stdout",
     "output_type": "stream",
     "text": [
      "20/20 [==============================] - 197s 10s/step - loss: 1.3165 - acc: 0.5275 - val_loss: 1.9938 - val_acc: 0.3618\n",
      "\n",
      "Epoch 00001: val_acc improved from -inf to 0.36175, saving model to best_weights.hdf6\n",
      "Epoch 2/20\n",
      "20/20 [==============================] - 198s 10s/step - loss: 1.0183 - acc: 0.6275 - val_loss: 2.0303 - val_acc: 0.3845\n",
      "\n",
      "Epoch 00002: val_acc improved from 0.36175 to 0.38446, saving model to best_weights.hdf6\n",
      "Epoch 3/20\n",
      "20/20 [==============================] - 197s 10s/step - loss: 0.7958 - acc: 0.6950 - val_loss: 2.3253 - val_acc: 0.3752\n",
      "\n",
      "Epoch 00003: val_acc did not improve from 0.38446\n",
      "Epoch 4/20\n",
      "20/20 [==============================] - 193s 10s/step - loss: 0.7444 - acc: 0.7275 - val_loss: 1.8182 - val_acc: 0.4338\n",
      "\n",
      "Epoch 00004: val_acc improved from 0.38446 to 0.43384, saving model to best_weights.hdf6\n",
      "Epoch 5/20\n",
      "20/20 [==============================] - 194s 10s/step - loss: 0.6437 - acc: 0.7650 - val_loss: 1.9274 - val_acc: 0.4095\n",
      "\n",
      "Epoch 00005: val_acc did not improve from 0.43384\n",
      "Epoch 6/20\n",
      "20/20 [==============================] - 193s 10s/step - loss: 0.8052 - acc: 0.7100 - val_loss: 2.0269 - val_acc: 0.3881\n",
      "\n",
      "Epoch 00006: val_acc did not improve from 0.43384\n",
      "Epoch 7/20\n",
      "20/20 [==============================] - 194s 10s/step - loss: 0.6304 - acc: 0.7625 - val_loss: 2.0594 - val_acc: 0.3805\n",
      "\n",
      "Epoch 00007: val_acc did not improve from 0.43384\n"
     ]
    }
   ],
   "source": [
    "# fit the transferNet on the training data\n",
    "stopping = callbacks.EarlyStopping(monitor='val_acc', patience=3)\n",
    "\n",
    "steps_per_epoch = train_generator.n//train_generator.batch_size\n",
    "val_steps = test_generator.n//test_generator.batch_size+1\n",
    "\n",
    "try:\n",
    "    history_transfer = transfer_model.fit_generator(train_generator, epochs=20, verbose=1, callbacks=[stopping,checkpointer],\\\n",
    "                    steps_per_epoch=steps_per_epoch,\n",
    "                    validation_data=test_generator,\n",
    "                    validation_steps=val_steps,\n",
    "                    use_multiprocessing=True,\n",
    "                    workers=0)\n",
    "except KeyboardInterrupt:\n",
    "    pass"
   ]
  },
  {
   "cell_type": "code",
   "execution_count": null,
   "metadata": {},
   "outputs": [],
   "source": [
    "loss, acc = model.evaluate_generator(test_generator,verbose=1,steps=val_steps, use_multiprocessing=True,workers=0)\n",
    "print('Test loss: %f' %loss)\n",
    "print('Test accuracy: %f' %acc)"
   ]
  },
  {
   "cell_type": "code",
   "execution_count": 27,
   "metadata": {},
   "outputs": [],
   "source": [
    "transfer_model.load_weights('best_weights.hdf6')\n"
   ]
  },
  {
   "cell_type": "code",
   "execution_count": 28,
   "metadata": {},
   "outputs": [
    {
     "name": "stdout",
     "output_type": "stream",
     "text": [
      "152/152 [==============================] - 130s 854ms/step\n",
      "              precision    recall  f1-score   support\n",
      "\n",
      "        HAZE      0.000     0.000     0.000         0\n",
      "       RAINY      0.152     0.282     0.198       521\n",
      "       SNOWY      0.690     0.559     0.618      1421\n",
      "       SUNNY      0.513     0.209     0.297      1096\n",
      "\n",
      "   micro avg      0.385     0.385     0.385      3038\n",
      "   macro avg      0.339     0.263     0.278      3038\n",
      "weighted avg      0.534     0.385     0.430      3038\n",
      "\n"
     ]
    }
   ],
   "source": [
    "preds = transfer_model.predict_generator(test_generator,verbose=1,steps=val_steps)\n",
    "\n",
    "Ypred = np.argmax(preds, axis=1)\n",
    "Ytest = test_generator.classes  # shuffle=False in test_generator\n",
    "\n",
    "print(classification_report(Ytest, Ypred, labels=None, target_names=classnames, digits=3))\n"
   ]
  },
  {
   "cell_type": "code",
   "execution_count": 25,
   "metadata": {},
   "outputs": [
    {
     "name": "stdout",
     "output_type": "stream",
     "text": [
      "152/152 [==============================] - 130s 855ms/step\n",
      "True                 Predicted         \terrors \terr % \n",
      "------------------------------------------------------------------\n",
      "SUNNY            ->  SNOWY             \t441 \t14.52 % \n",
      "SUNNY            ->  RAINY             \t317 \t10.43 % \n",
      "SNOWY            ->  RAINY             \t210 \t6.91 % \n",
      "SUNNY            ->  HAZE              \t177 \t5.83 % \n",
      "RAINY            ->  SNOWY             \t141 \t4.64 % \n",
      "RAINY            ->  HAZE              \t128 \t4.21 % \n",
      "SNOWY            ->  SUNNY             \t82 \t2.70 % \n",
      "SNOWY            ->  HAZE              \t64 \t2.11 % \n"
     ]
    }
   ],
   "source": [
    "# predictions from transferNet\n",
    "preds = transfer_model.predict_generator(test_generator,verbose=1,steps=val_steps)\n",
    "\n",
    "Ypred = np.argmax(preds, axis=1)\n",
    "Ytest = test_generator.classes  # shuffle=False in test_generator\n",
    "\n",
    "cm = confusion_matrix(Ytest, Ypred)\n",
    "\n",
    "conf = [] # data structure for confusions: list of (i,j,cm[i][j])\n",
    "for i in range(0,cm.shape[0]):\n",
    "    for j in range(0,cm.shape[1]):\n",
    "        if (i!=j and cm[i][j]>0):\n",
    "            conf.append([i,j,cm[i][j]])\n",
    "\n",
    "col=2\n",
    "conf = np.array(conf)\n",
    "conf = conf[np.argsort(-conf[:,col])]  # decreasing order by 3-rd column (i.e., cm[i][j])\n",
    "\n",
    "print('%-16s     %-16s  \\t%s \\t%s ' %('True','Predicted','errors','err %'))\n",
    "print('------------------------------------------------------------------')\n",
    "for k in conf:\n",
    "    print('%-16s ->  %-16s  \\t%d \\t%.2f %% ' %(classnames[k[0]],classnames[k[1]],k[2],k[2]*100.0/test_generator.n))"
   ]
  },
  {
   "cell_type": "code",
   "execution_count": 38,
   "metadata": {},
   "outputs": [
    {
     "data": {
      "image/png": "[encoded data removed]",
      "text/plain": [
       "<Figure size 432x288 with 1 Axes>"
      ]
     },
     "metadata": {
      "needs_background": "light"
     },
     "output_type": "display_data"
    },
    {
     "data": {
      "image/png": "[encoded data removed]",
      "text/plain": [
       "<Figure size 432x288 with 1 Axes>"
      ]
     },
     "metadata": {
      "needs_background": "light"
     },
     "output_type": "display_data"
    }
   ],
   "source": [
    "def plot_history(history,name):\n",
    "\n",
    "    # summarize history for accuracy\n",
    "    plt.plot(history.history['acc'])\n",
    "    plt.plot(history.history['val_acc'])\n",
    "    plt.title(name + ' accuracy')\n",
    "    plt.ylabel('accuracy')\n",
    "    plt.xlabel('epoch')\n",
    "    plt.legend(['train', 'test'], loc='upper left')\n",
    "    plt.show()\n",
    "    # summarize history for loss\n",
    "    plt.plot(history.history['loss'])\n",
    "    plt.plot(history.history['val_loss'])\n",
    "    plt.title(name + ' loss')\n",
    "    plt.ylabel('loss')\n",
    "    plt.xlabel('epoch')\n",
    "    plt.legend(['train', 'test'], loc='upper left')\n",
    "    plt.show()\n",
    "\n",
    "\n",
    "name=\"transferNet\"\n",
    "plot_history(history_transfer, name)\n"
   ]
  },
  {
   "cell_type": "code",
   "execution_count": 45,
   "metadata": {},
   "outputs": [],
   "source": [
    "def cross_validate(number_of_folds):\n",
    "    accuracies=[]\n",
    "    losses=[]\n",
    "    input_shape = ()\n",
    "    train_datagen = ImageDataGenerator(\n",
    "    rescale = 1. / 255,\\\n",
    "    zoom_range=0.4,\\\n",
    "    rotation_range=60,\\\n",
    "    width_shift_range=0.3,\\\n",
    "    height_shift_range=0.3,\\\n",
    "    horizontal_flip=True,\\\n",
    "    shear_range=0.3,\n",
    "    zca_whitening=True,\n",
    "    brightness_range=[0.5, 1.5],\n",
    "    vertical_flip=False,\n",
    "    validation_split=0.2)\n",
    "\n",
    "    for i in  range(number_of_folds):\n",
    "        random_state=np.random.randint(1,1000, 1)[0]\n",
    "\n",
    "   \n",
    "        train_generator = train_datagen.flow_from_directory(\n",
    "        directory=datadir,\n",
    "        target_size=(350, 450),\n",
    "        color_mode=\"rgb\",\n",
    "        batch_size=batch_size,\n",
    "        class_mode=\"categorical\",\n",
    "        shuffle=True,\n",
    "        subset='training',\n",
    "        seed=random_state\n",
    "        )\n",
    "\n",
    "        validation_generator = train_datagen.flow_from_directory(\n",
    "        directory=datadir,\n",
    "        target_size=(350, 450),\n",
    "        color_mode=\"rgb\",\n",
    "        batch_size=batch_size,\n",
    "        class_mode=\"categorical\",\n",
    "        shuffle=True,\n",
    "        subset='validation',\n",
    "        seed=random_state\n",
    "        )\n",
    "        \n",
    "        \n",
    "        num_samples = train_generator.n\n",
    "        num_classes = train_generator.num_classes\n",
    "        input_shape = train_generator.image_shape\n",
    "\n",
    "        classnames = [k for k,v in train_generator.class_indices.items()]\n",
    "\n",
    "\n",
    "\n",
    "\n",
    "\n",
    "\n",
    "\n",
    "        try:\n",
    "            history_transfer = transfer_model.fit_generator(train_generator, epochs=20, verbose=0, callbacks=[stopping],\\\n",
    "                    steps_per_epoch=steps_per_epoch,\n",
    "                    validation_data=validation_generator,\n",
    "                    validation_steps=val_steps,\n",
    "                    use_multiprocessing=True,\n",
    "                    workers=0)\n",
    "        except KeyboardInterrupt:\n",
    "            \n",
    "            pass\n",
    "        \n",
    "        loss,acc = transfer_model.evaluate_generator(validation_generator,verbose=0,steps=val_steps)\n",
    "        losses.append(loss)\n",
    "        accuracies.append(acc)\n",
    "        #print('validation loss: %f' %loss)\n",
    "        #print('validation accuracy: %f' %acc)\n",
    "    return accuracies,losses"
   ]
  },
  {
   "cell_type": "code",
   "execution_count": 46,
   "metadata": {},
   "outputs": [
    {
     "name": "stdout",
     "output_type": "stream",
     "text": [
      "Found 320 images belonging to 4 classes.\n",
      "Found 80 images belonging to 4 classes.\n",
      "Found 320 images belonging to 4 classes.\n",
      "Found 80 images belonging to 4 classes.\n",
      "Found 320 images belonging to 4 classes.\n",
      "Found 80 images belonging to 4 classes.\n",
      "Found 320 images belonging to 4 classes.\n",
      "Found 80 images belonging to 4 classes.\n",
      "Found 320 images belonging to 4 classes.\n",
      "Found 80 images belonging to 4 classes.\n"
     ]
    }
   ],
   "source": [
    "cross_acc,cross_loss=cross_validate(5)"
   ]
  },
  {
   "cell_type": "code",
   "execution_count": 47,
   "metadata": {},
   "outputs": [
    {
     "data": {
      "text/plain": [
       "[0.7848684219153303,\n",
       " 0.7634868445365053,\n",
       " 0.8039473699111688,\n",
       " 0.785855264255875,\n",
       " 0.7898026332259178]"
      ]
     },
     "execution_count": 47,
     "metadata": {},
     "output_type": "execute_result"
    }
   ],
   "source": [
    "cross_acc"
   ]
  },
  {
   "cell_type": "code",
   "execution_count": 48,
   "metadata": {},
   "outputs": [
    {
     "data": {
      "text/plain": [
       "[0.5806788822734043,\n",
       " 0.6502082494920806,\n",
       " 0.5555793182238152,\n",
       " 0.5684156432551773,\n",
       " 0.5672511837788319]"
      ]
     },
     "execution_count": 48,
     "metadata": {},
     "output_type": "execute_result"
    }
   ],
   "source": [
    "cross_loss"
   ]
  },
  {
   "cell_type": "code",
   "execution_count": 49,
   "metadata": {},
   "outputs": [
    {
     "data": {
      "text/plain": [
       "0.7855921067689595"
      ]
     },
     "execution_count": 49,
     "metadata": {},
     "output_type": "execute_result"
    }
   ],
   "source": [
    "sum(cross_acc) / len(cross_acc)"
   ]
  },
  {
   "cell_type": "code",
   "execution_count": 50,
   "metadata": {},
   "outputs": [],
   "source": [
    "import statistics"
   ]
  },
  {
   "cell_type": "code",
   "execution_count": 51,
   "metadata": {},
   "outputs": [
    {
     "data": {
      "text/plain": [
       "0.014524804715213481"
      ]
     },
     "execution_count": 51,
     "metadata": {},
     "output_type": "execute_result"
    }
   ],
   "source": [
    "statistics.stdev(cross_acc)\n"
   ]
  }
 ],
 "metadata": {
  "kernelspec": {
   "display_name": "Python 3",
   "language": "python",
   "name": "python3"
  },
  "language_info": {
   "codemirror_mode": {
    "name": "ipython",
    "version": 3
   },
   "file_extension": ".py",
   "mimetype": "text/x-python",
   "name": "python",
   "nbconvert_exporter": "python",
   "pygments_lexer": "ipython3",
   "version": "3.7.3"
  }
 },
 "nbformat": 4,
 "nbformat_minor": 2
}
